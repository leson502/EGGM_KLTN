{
 "cells": [
  {
   "cell_type": "code",
   "execution_count": 12,
   "metadata": {},
   "outputs": [],
   "source": [
    "import torchaudio\n",
    "\n",
    "# Example: list of file paths\n",
    "file_paths = [\"/home/sonlt/workspace/markdocdown/EGGM/data/cremad/AudioWAV/1001_DFA_ANG_XX.wav\", \n",
    "              \"/home/sonlt/workspace/markdocdown/EGGM/data/cremad/AudioWAV/1001_DFA_FEA_XX.wav\", \n",
    "              \"/home/sonlt/workspace/markdocdown/EGGM/data/cremad/AudioWAV/1001_IEO_DIS_MD.wav\"]\n",
    "\n",
    "# Load and preprocess audio files (mono, 16kHz)\n",
    "waveforms = []\n",
    "\n",
    "for path in file_paths:\n",
    "    waveform, sr = torchaudio.load(path)\n",
    "    waveform = torchaudio.functional.resample(waveform, orig_freq=sr, new_freq=16000)\n",
    "    waveform = waveform.mean(dim=0)  # mono\n",
    "    waveforms.append(waveform)\n",
    "\n",
    "waveforms_np = [w.numpy() for w in waveforms]"
   ]
  },
  {
   "cell_type": "code",
   "execution_count": 24,
   "metadata": {},
   "outputs": [
    {
     "data": {
      "text/plain": [
       "torch.Size([3, 1024, 128])"
      ]
     },
     "execution_count": 24,
     "metadata": {},
     "output_type": "execute_result"
    }
   ],
   "source": [
    "from transformers import ASTFeatureExtractor, ASTForAudioClassification\n",
    "\n",
    "feature_extractor = ASTFeatureExtractor.from_pretrained(\"MIT/ast-finetuned-audioset-10-10-0.4593\")\n",
    "\n",
    "# Let the feature extractor handle variable-length padding\n",
    "inputs = feature_extractor(\n",
    "    waveforms_np,\n",
    "    sampling_rate=16000,\n",
    "    return_tensors=\"pt\",\n",
    "    pad=True\n",
    ")\n",
    "inputs.input_values.shape"
   ]
  },
  {
   "cell_type": "code",
   "execution_count": 33,
   "metadata": {},
   "outputs": [
    {
     "data": {
      "text/plain": [
       "odict_keys(['logits', 'hidden_states'])"
      ]
     },
     "execution_count": 33,
     "metadata": {},
     "output_type": "execute_result"
    }
   ],
   "source": [
    "model = ASTForAudioClassification.from_pretrained(\"MIT/ast-finetuned-audioset-10-10-0.4593\")\n",
    "\n",
    "outputs = model(inputs.input_values, output_hidden_states=True)\n",
    "outputs.keys()\n"
   ]
  },
  {
   "cell_type": "code",
   "execution_count": 42,
   "metadata": {},
   "outputs": [
    {
     "data": {
      "text/plain": [
       "torch.Size([3, 768])"
      ]
     },
     "execution_count": 42,
     "metadata": {},
     "output_type": "execute_result"
    }
   ],
   "source": [
    "model.audio_spectrogram_transformer(inputs.input_values).pooler_output.shape"
   ]
  },
  {
   "cell_type": "code",
   "execution_count": 37,
   "metadata": {},
   "outputs": [
    {
     "data": {
      "text/plain": [
       "torch.Size([3, 1214, 768])"
      ]
     },
     "execution_count": 37,
     "metadata": {},
     "output_type": "execute_result"
    }
   ],
   "source": [
    "outputs.hidden_states[-1].shape"
   ]
  }
 ],
 "metadata": {
  "kernelspec": {
   "display_name": "egm",
   "language": "python",
   "name": "python3"
  },
  "language_info": {
   "codemirror_mode": {
    "name": "ipython",
    "version": 3
   },
   "file_extension": ".py",
   "mimetype": "text/x-python",
   "name": "python",
   "nbconvert_exporter": "python",
   "pygments_lexer": "ipython3",
   "version": "3.11.11"
  }
 },
 "nbformat": 4,
 "nbformat_minor": 2
}
