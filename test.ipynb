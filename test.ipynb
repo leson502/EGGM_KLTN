{
 "cells": [
  {
   "cell_type": "code",
   "execution_count": 4,
   "metadata": {},
   "outputs": [
    {
     "name": "stdout",
     "output_type": "stream",
     "text": [
      "Input feature wav2vec-large-c-UTT ===> dim is 512; No. sample is 22856\n",
      "Input feature deberta-large-4-UTT ===> dim is 1024; No. sample is 22856\n",
      "Input feature manet_UTT ===> dim is 1024; No. sample is 22856\n"
     ]
    }
   ],
   "source": [
    "from datasets.dataloader import getdataloader\n",
    "import torch\n",
    "data = getdataloader(\"mosei\", 8, '')[0]"
   ]
  },
  {
   "cell_type": "code",
   "execution_count": 5,
   "metadata": {},
   "outputs": [],
   "source": [
    "train_data = data['train']"
   ]
  },
  {
   "cell_type": "code",
   "execution_count": 3,
   "metadata": {},
   "outputs": [],
   "source": [
    "from models.msamodel import MSAModel\n",
    "import torch\n",
    "\n",
    "model = model = MSAModel(2, [512, 1024, 1024], 512, 4, 4)\n"
   ]
  },
  {
   "cell_type": "code",
   "execution_count": 6,
   "metadata": {},
   "outputs": [
    {
     "name": "stdout",
     "output_type": "stream",
     "text": [
      "tensor([25], dtype=torch.int32)\n",
      "tensor([1], dtype=torch.int32)\n",
      "tensor([3], dtype=torch.int32)\n",
      "tensor([8], dtype=torch.int32)\n",
      "tensor([2], dtype=torch.int32)\n",
      "tensor([11], dtype=torch.int32)\n",
      "tensor([5], dtype=torch.int32)\n",
      "tensor([3], dtype=torch.int32)\n"
     ]
    }
   ],
   "source": [
    "itr = iter(train_data)\n",
    "a, t, v, y, l = next(itr)"
   ]
  },
  {
   "cell_type": "code",
   "execution_count": 19,
   "metadata": {},
   "outputs": [
    {
     "name": "stdout",
     "output_type": "stream",
     "text": [
      "torch.Size([58])\n"
     ]
    }
   ],
   "source": [
    "from torch.nn.utils.rnn import unpad_sequence\n",
    "\n",
    "eval_attr = torch.concat(unpad_sequence(y, l, batch_first=True)).long()\n",
    "print(eval_attr.shape)"
   ]
  },
  {
   "cell_type": "code",
   "execution_count": 20,
   "metadata": {},
   "outputs": [
    {
     "data": {
      "text/plain": [
       "torch.Size([58, 2])"
      ]
     },
     "execution_count": 20,
     "metadata": {},
     "output_type": "execute_result"
    }
   ],
   "source": [
    "out, _, _ = model([a, t, v],l)\n",
    "out.shape"
   ]
  },
  {
   "cell_type": "code",
   "execution_count": 22,
   "metadata": {},
   "outputs": [
    {
     "data": {
      "text/plain": [
       "tensor(1.1234, grad_fn=<NllLossBackward0>)"
      ]
     },
     "execution_count": 22,
     "metadata": {},
     "output_type": "execute_result"
    }
   ],
   "source": [
    "from torch.nn import functional as F\n",
    "loss = F.cross_entropy(out, eval_attr)\n",
    "loss"
   ]
  }
 ],
 "metadata": {
  "kernelspec": {
   "display_name": "egm",
   "language": "python",
   "name": "python3"
  },
  "language_info": {
   "codemirror_mode": {
    "name": "ipython",
    "version": 3
   },
   "file_extension": ".py",
   "mimetype": "text/x-python",
   "name": "python",
   "nbconvert_exporter": "python",
   "pygments_lexer": "ipython3",
   "version": "3.11.11"
  }
 },
 "nbformat": 4,
 "nbformat_minor": 2
}
