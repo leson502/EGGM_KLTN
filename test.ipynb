{
 "cells": [
  {
   "cell_type": "code",
   "execution_count": 2,
   "metadata": {},
   "outputs": [
    {
     "name": "stdout",
     "output_type": "stream",
     "text": [
      "data/cremad/train.csv\n",
      "data/cremad/test.csv\n"
     ]
    }
   ],
   "source": [
    "from datasets.CREMADDataset import load_cremad\n",
    "\n",
    "train_data, test_data = load_cremad('data')"
   ]
  },
  {
   "cell_type": "code",
   "execution_count": 20,
   "metadata": {},
   "outputs": [],
   "source": [
    "import torch\n",
    "import torch.nn as nn\n",
    "import copy\n",
    "\n",
    "lin = nn.Linear(10, 10)\n",
    "\n",
    "c_lin = copy.deepcopy(lin)\n",
    "\n",
    "x1 = torch.randn(10, 10)\n",
    "x2 = torch.randn(10, 10)\n",
    "\n"
   ]
  },
  {
   "cell_type": "code",
   "execution_count": 21,
   "metadata": {},
   "outputs": [],
   "source": [
    "out = lin(x1) + lin(x2) + c_lin(x1) \n",
    "out.mean().backward()"
   ]
  },
  {
   "cell_type": "code",
   "execution_count": 23,
   "metadata": {},
   "outputs": [
    {
     "name": "stdout",
     "output_type": "stream",
     "text": [
      "tensor([[ 0.0224, -0.0378,  0.0020,  0.0085, -0.0119,  0.0500,  0.0322,  0.0054,\n",
      "         -0.0030,  0.0271],\n",
      "        [ 0.0224, -0.0378,  0.0020,  0.0085, -0.0119,  0.0500,  0.0322,  0.0054,\n",
      "         -0.0030,  0.0271],\n",
      "        [ 0.0224, -0.0378,  0.0020,  0.0085, -0.0119,  0.0500,  0.0322,  0.0054,\n",
      "         -0.0030,  0.0271],\n",
      "        [ 0.0224, -0.0378,  0.0020,  0.0085, -0.0119,  0.0500,  0.0322,  0.0054,\n",
      "         -0.0030,  0.0271],\n",
      "        [ 0.0224, -0.0378,  0.0020,  0.0085, -0.0119,  0.0500,  0.0322,  0.0054,\n",
      "         -0.0030,  0.0271],\n",
      "        [ 0.0224, -0.0378,  0.0020,  0.0085, -0.0119,  0.0500,  0.0322,  0.0054,\n",
      "         -0.0030,  0.0271],\n",
      "        [ 0.0224, -0.0378,  0.0020,  0.0085, -0.0119,  0.0500,  0.0322,  0.0054,\n",
      "         -0.0030,  0.0271],\n",
      "        [ 0.0224, -0.0378,  0.0020,  0.0085, -0.0119,  0.0500,  0.0322,  0.0054,\n",
      "         -0.0030,  0.0271],\n",
      "        [ 0.0224, -0.0378,  0.0020,  0.0085, -0.0119,  0.0500,  0.0322,  0.0054,\n",
      "         -0.0030,  0.0271],\n",
      "        [ 0.0224, -0.0378,  0.0020,  0.0085, -0.0119,  0.0500,  0.0322,  0.0054,\n",
      "         -0.0030,  0.0271]])\n"
     ]
    }
   ],
   "source": [
    "print(lin.weight.grad - c_lin.weight.grad)"
   ]
  }
 ],
 "metadata": {
  "kernelspec": {
   "display_name": "torch",
   "language": "python",
   "name": "python3"
  },
  "language_info": {
   "codemirror_mode": {
    "name": "ipython",
    "version": 3
   },
   "file_extension": ".py",
   "mimetype": "text/x-python",
   "name": "python",
   "nbconvert_exporter": "python",
   "pygments_lexer": "ipython3",
   "version": "3.10.16"
  }
 },
 "nbformat": 4,
 "nbformat_minor": 2
}
